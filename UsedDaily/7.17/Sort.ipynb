{
  "cells": [
    {
      "cell_type": "code",
      "execution_count": 3,
      "metadata": {
        "trusted": true
      },
      "outputs": [
        {
          "data": {
            "text/plain": [
              "[5, 12, 23, 32, 44]"
            ]
          },
          "execution_count": 3,
          "metadata": {},
          "output_type": "execute_result"
        }
      ],
      "source": [
        "def insertionSort(arr):\n",
        "    for i in range(1,len(arr)):\n",
        "        key = arr[i]\n",
        "        \n",
        "        j = i-1\n",
        "        #从后向前扫描，找到对应位置插入\n",
        "        #Scan from back to front; Find the position to insert.\n",
        "        while j>=0 and key< arr[j]:\n",
        "            arr[j+1] = arr[j]\n",
        "            j -= 1\n",
        "        arr[j+1] = key\n",
        "arr = [12,32,23,44,5]\n",
        "insertionSort(arr)\n",
        "arr"
      ]
    },
    {
      "cell_type": "code",
      "execution_count": 15,
      "metadata": {
        "trusted": true
      },
      "outputs": [
        {
          "data": {
            "text/plain": [
              "[2, 3, 4, 4, 10]"
            ]
          },
          "execution_count": 15,
          "metadata": {},
          "output_type": "execute_result"
        }
      ],
      "source": [
        "def quickSort(arr, left=None, right=None):\n",
        "    left = 0 if not isinstance(left,(int, float)) else left\n",
        "    right = len(arr)-1 if not isinstance(right,(int, float)) else right\n",
        "    if left < right:\n",
        "        partitionIndex = partition(arr, left, right)\n",
        "        quickSort(arr, left, partitionIndex-1)\n",
        "        quickSort(arr, partitionIndex+1, right)\n",
        "    return arr\n",
        "\n",
        "def partition(arr, left, right):\n",
        "    pivot = left\n",
        "    index = pivot+1\n",
        "    i = index\n",
        "    while  i <= right:\n",
        "        if arr[i] < arr[pivot]:\n",
        "            swap(arr, i, index)\n",
        "            index+=1\n",
        "        i+=1\n",
        "    swap(arr,pivot,index-1)\n",
        "    return index-1\n",
        "\n",
        "def swap(arr, i, j):\n",
        "    arr[i], arr[j] = arr[j], arr[i]\n",
        "arr = [10,3,2,4,4]\n",
        "quickSort(arr,0,len(arr)-1)\n",
        "arr"
      ]
    }
  ],
  "metadata": {
    "kernelspec": {
      "display_name": "Python (Pyodide)",
      "language": "python",
      "name": "python"
    },
    "language_info": {
      "codemirror_mode": {
        "name": "python",
        "version": 3
      },
      "file_extension": ".py",
      "mimetype": "text/x-python",
      "name": "python",
      "nbconvert_exporter": "python",
      "pygments_lexer": "ipython3",
      "version": "3.8"
    }
  },
  "nbformat": 4,
  "nbformat_minor": 4
}
