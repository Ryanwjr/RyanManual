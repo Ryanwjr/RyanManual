{
  "metadata": {
    "language_info": {
      "codemirror_mode": {
        "name": "python",
        "version": 3
      },
      "file_extension": ".py",
      "mimetype": "text/x-python",
      "name": "python",
      "nbconvert_exporter": "python",
      "pygments_lexer": "ipython3",
      "version": "3.8"
    },
    "kernelspec": {
      "name": "python",
      "display_name": "Python (Pyodide)",
      "language": "python"
    }
  },
  "nbformat_minor": 4,
  "nbformat": 4,
  "cells": [
    {
      "cell_type": "code",
      "source": "import keyword\nkeyword.kwlist",
      "metadata": {
        "trusted": true
      },
      "execution_count": 8,
      "outputs": [
        {
          "execution_count": 8,
          "output_type": "execute_result",
          "data": {
            "text/plain": "['False',\n 'None',\n 'True',\n 'and',\n 'as',\n 'assert',\n 'async',\n 'await',\n 'break',\n 'class',\n 'continue',\n 'def',\n 'del',\n 'elif',\n 'else',\n 'except',\n 'finally',\n 'for',\n 'from',\n 'global',\n 'if',\n 'import',\n 'in',\n 'is',\n 'lambda',\n 'nonlocal',\n 'not',\n 'or',\n 'pass',\n 'raise',\n 'return',\n 'try',\n 'while',\n 'with',\n 'yield']"
          },
          "metadata": {}
        }
      ]
    },
    {
      "cell_type": "code",
      "source": "print(\"Ryan\")",
      "metadata": {
        "trusted": true
      },
      "execution_count": 3,
      "outputs": [
        {
          "name": "stdout",
          "text": "Ryan\n",
          "output_type": "stream"
        }
      ]
    },
    {
      "cell_type": "markdown",
      "source": "list = [1,2,3,4,5]\nprint(list)",
      "metadata": {}
    },
    {
      "cell_type": "code",
      "source": "dict = {1:'num',2:'abc'}\nprint(dict[1])",
      "metadata": {
        "trusted": true
      },
      "execution_count": 5,
      "outputs": [
        {
          "name": "stdout",
          "text": "num\n",
          "output_type": "stream"
        }
      ]
    },
    {
      "cell_type": "code",
      "source": "x = float(1)\nprint(x)",
      "metadata": {},
      "execution_count": null,
      "outputs": [
        {
          "name": "stdout",
          "text": "1.0\n",
          "output_type": "stream"
        }
      ]
    },
    {
      "cell_type": "code",
      "source": "z= float('23.23')\nprint(z)",
      "metadata": {
        "trusted": true
      },
      "execution_count": 9,
      "outputs": [
        {
          "name": "stdout",
          "text": "23.23\n",
          "output_type": "stream"
        }
      ]
    },
    {
      "cell_type": "code",
      "source": "a = { x for x in 'asfdka' if x not in 'as'}\na.add('b')\na.remove('b')\nprint(a)\nlen(a)",
      "metadata": {
        "trusted": true
      },
      "execution_count": 15,
      "outputs": [
        {
          "name": "stdout",
          "text": "{'d', 'f', 'k'}\n",
          "output_type": "stream"
        },
        {
          "execution_count": 15,
          "output_type": "execute_result",
          "data": {
            "text/plain": "3"
          },
          "metadata": {}
        }
      ]
    },
    {
      "cell_type": "code",
      "source": "def hello():\n    print(\"Ryan hello\")\n    \nhello()",
      "metadata": {
        "trusted": true
      },
      "execution_count": 1,
      "outputs": [
        {
          "name": "stdout",
          "text": "Ryan hello\n",
          "output_type": "stream"
        }
      ]
    },
    {
      "cell_type": "code",
      "source": "sum = lambda a:a+10\nprint(sum(2))",
      "metadata": {
        "trusted": true
      },
      "execution_count": 2,
      "outputs": [
        {
          "name": "stdout",
          "text": "12\n",
          "output_type": "stream"
        }
      ]
    },
    {
      "cell_type": "code",
      "source": "str = input(\"输入：\")\nprint(\"in:\",str)",
      "metadata": {
        "trusted": true
      },
      "execution_count": 5,
      "outputs": [
        {
          "name": "stderr",
          "text": "Future exception was never retrieved\nfuture: <Future finished exception=JsException(TypeError: Cannot read properties of null (reading 'sendInputRequest'))>\n",
          "output_type": "stream"
        },
        {
          "name": "stdout",
          "text": "in: <Future pending>\n",
          "output_type": "stream"
        }
      ]
    },
    {
      "cell_type": "code",
      "source": "try:\n    break\nexcept ValueError:\n    print(\"Exception:)",
      "metadata": {},
      "execution_count": null,
      "outputs": []
    },
    {
      "cell_type": "code",
      "source": "#类定义\nclass people:\n    #定义基本属性\n    name = ''\n    age = 0\n    #定义私有属性,私有属性在类外部无法直接进行访问\n    __weight = 0\n    #定义构造方法\n    def __init__(self,n,a,w):\n        self.name = n\n        self.age = a\n        self.__weight = w\n    def speak(self):\n        print(\"%s 说: 我 %d 岁。\" %(self.name,self.age))\n \n#单继承示例\nclass student(people):\n    grade = ''\n    def __init__(self,n,a,w,g):\n        #调用父类的构函\n        people.__init__(self,n,a,w)\n        self.grade = g\n    #覆写父类的方法\n    def speak(self):\n        print(\"%s 说: 我 %d 岁了，我在读 %d 年级\"%(self.name,self.age,self.grade))",
      "metadata": {},
      "execution_count": null,
      "outputs": []
    },
    {
      "cell_type": "code",
      "source": "def binSearch(arr,l,r,x):\n if r>=l:\n    mid = int(l + (r-l)/2)\n    if arr[mid] == x:\n        return mid\n    elif arr[mid] > x: \n        return binSearch(arr,l,mid-1,x)\n    else:\n        return binSearch(arr,mid3+1,r,x)\n else:\n    return -1\n\narr = [2,3,4,5,10]\nx = 10\nresult = binSearch(arr,0,5,x)\nresult\n    ",
      "metadata": {
        "trusted": true
      },
      "execution_count": 13,
      "outputs": [
        {
          "execution_count": 13,
          "output_type": "execute_result",
          "data": {
            "text/plain": "4"
          },
          "metadata": {}
        }
      ]
    }
  ]
}